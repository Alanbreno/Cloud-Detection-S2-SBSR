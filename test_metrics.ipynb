{
 "cells": [
  {
   "cell_type": "code",
   "execution_count": 1,
   "metadata": {},
   "outputs": [
    {
     "name": "stderr",
     "output_type": "stream",
     "text": [
      "c:\\Users\\alanb\\anaconda3\\envs\\cloud\\Lib\\site-packages\\tqdm\\auto.py:21: TqdmWarning: IProgress not found. Please update jupyter and ipywidgets. See https://ipywidgets.readthedocs.io/en/stable/user_install.html\n",
      "  from .autonotebook import tqdm as notebook_tqdm\n",
      "c:\\Users\\alanb\\anaconda3\\envs\\cloud\\Lib\\site-packages\\albumentations\\__init__.py:13: UserWarning: A new version of Albumentations is available: 1.4.19 (you have 1.4.16). Upgrade using: pip install -U albumentations. To disable automatic update checks, set the environment variable NO_ALBUMENTATIONS_UPDATE to 1.\n",
      "  check_for_updates()\n"
     ]
    }
   ],
   "source": [
    "import segmentation_models_pytorch as smp\n",
    "import metrics\n",
    "import read_paths_image as rpi\n",
    "from datamodule import CoreDataModule"
   ]
  },
  {
   "cell_type": "code",
   "execution_count": 2,
   "metadata": {},
   "outputs": [
    {
     "name": "stdout",
     "output_type": "stream",
     "text": [
      "Loading weights from local directory\n"
     ]
    },
    {
     "name": "stderr",
     "output_type": "stream",
     "text": [
      "Calculando métricas: 100%|██████████| 7/7 [01:25<00:00, 12.27s/it]"
     ]
    },
    {
     "name": "stdout",
     "output_type": "stream",
     "text": [
      "Redução: micro\n",
      "Acurácia no conjunto de teste: 0.9426\n",
      "Acurácia Balanceada no conjunto de teste: 0.9235\n",
      "IoU no conjunto de teste: 0.7941\n",
      "F1 no conjunto de teste: 0.8852\n",
      "F2 no conjunto de teste: 0.8852\n",
      "Recall no conjunto de teste: 0.8852\n",
      "\n",
      "\n",
      "Redução: macro\n",
      "Acurácia no conjunto de teste: 0.9426\n",
      "Acurácia Balanceada no conjunto de teste: 0.8846\n",
      "IoU no conjunto de teste: 0.6901\n",
      "F1 no conjunto de teste: 0.8040\n",
      "F2 no conjunto de teste: 0.8083\n",
      "Recall no conjunto de teste: 0.8123\n",
      "\n",
      "\n",
      "Redução: micro-imagewise\n",
      "Acurácia no conjunto de teste: 0.9426\n",
      "Acurácia Balanceada no conjunto de teste: 0.9235\n",
      "IoU no conjunto de teste: 0.8149\n",
      "F1 no conjunto de teste: 0.8852\n",
      "F2 no conjunto de teste: 0.8852\n",
      "Recall no conjunto de teste: 0.8852\n",
      "\n",
      "\n",
      "Redução: macro-imagewise\n",
      "Acurácia no conjunto de teste: 0.9426\n",
      "Acurácia Balanceada no conjunto de teste: 0.8377\n",
      "IoU no conjunto de teste: 0.6379\n",
      "F1 no conjunto de teste: 0.6996\n",
      "F2 no conjunto de teste: 0.7133\n",
      "Recall no conjunto de teste: 0.7540\n",
      "\n",
      "\n"
     ]
    },
    {
     "name": "stderr",
     "output_type": "stream",
     "text": [
      "\n"
     ]
    }
   ],
   "source": [
    "image_type = \"high\"\n",
    "diretorio_base = 'C:/Users/alanb/Documents/'\n",
    "df = rpi.get_image_paths(image_type=image_type, diretorio_base=diretorio_base)\n",
    "\n",
    "datamodule = CoreDataModule(df, batch_size=16)\n",
    "\n",
    "model = smp.from_pretrained(r\"G:\\Meu Drive\\Unet\\lightning_logs\\Unet_efficientnet-b0\\Unet_efficientnet-b0\")\n",
    "\n",
    "acuracia, acuracia_balanceada, iou, f1_score, f2_score, recall = metrics.calculate_metrics(datamodule.test_dataloader(), model)\n"
   ]
  }
 ],
 "metadata": {
  "kernelspec": {
   "display_name": "cloud",
   "language": "python",
   "name": "python3"
  },
  "language_info": {
   "codemirror_mode": {
    "name": "ipython",
    "version": 3
   },
   "file_extension": ".py",
   "mimetype": "text/x-python",
   "name": "python",
   "nbconvert_exporter": "python",
   "pygments_lexer": "ipython3",
   "version": "3.11.9"
  }
 },
 "nbformat": 4,
 "nbformat_minor": 2
}
